{
 "cells": [
  {
   "cell_type": "markdown",
   "id": "c853b91c",
   "metadata": {},
   "source": [
    "# Bubble Sort Algorithm\n",
    "   Bubble Sort is the simplest [sorting algorithm](https://www.geeksforgeeks.org/sorting-algorithms/ \"Click here\") that works by repeatedly swapping the adjacent elements if they are in the wrong order. This algorithm is not suitable for large data sets as its average and worst-case time complexity is quite high."
   ]
  },
  {
   "cell_type": "markdown",
   "id": "ec446f2a",
   "metadata": {},
   "source": [
    "### How does Bubble Sort Work?\n",
    "\n",
    "Input: arr[] = {5, 1, 4, 2, 8}\n",
    "\n",
    "#### First Pass: \n",
    "\n",
    "Bubble sort starts with very first two elements, comparing them to check which one is greater.\n",
    "- ( 5 1 4 2 8 ) –> ( 1 5 4 2 8 ), Here, algorithm compares the first two elements, and swaps since 5 > 1. \n",
    "- ( 1 5 4 2 8 ) –>  ( 1 4 5 2 8 ), Swap since 5 > 4 \n",
    "- ( 1 4 5 2 8 ) –>  ( 1 4 2 5 8 ), Swap since 5 > 2 \n",
    "- ( 1 4 2 5 8 ) –> ( 1 4 2 5 8 ), Now, since these elements are already in order (8 > 5), algorithm does not swap them.\n",
    "\n",
    "#### Second Pass: \n",
    "\n",
    "Now, during second iteration it should look like this:\n",
    "- ( 1 4 2 5 8 ) –> ( 1 4 2 5 8 ) \n",
    "- ( 1 4 2 5 8 ) –> ( 1 2 4 5 8 ), Swap since 4 > 2 \n",
    "- ( 1 2 4 5 8 ) –> ( 1 2 4 5 8 ) \n",
    "- ( 1 2 4 5 8 ) –>  ( 1 2 4 5 8 ) \n",
    "\n",
    "#### Third Pass: \n",
    "\n",
    "Now, the array is already sorted, but our algorithm does not know if it is completed.\n",
    "The algorithm needs one whole pass without any swap to know it is sorted.\n",
    "- ( 1 2 4 5 8 ) –> ( 1 2 4 5 8 ) \n",
    "- ( 1 2 4 5 8 ) –> ( 1 2 4 5 8 ) \n",
    "- ( 1 2 4 5 8 ) –> ( 1 2 4 5 8 ) \n",
    "- ( 1 2 4 5 8 ) –> ( 1 2 4 5 8 ) "
   ]
  },
  {
   "cell_type": "markdown",
   "id": "e4c4f196",
   "metadata": {},
   "source": [
    "### Python Code"
   ]
  },
  {
   "cell_type": "markdown",
   "id": "1685c9e6",
   "metadata": {},
   "source": [
    "###### Get a list as input from user"
   ]
  },
  {
   "cell_type": "code",
   "execution_count": 16,
   "id": "46d1a072",
   "metadata": {
    "scrolled": true
   },
   "outputs": [
    {
     "name": "stdout",
     "output_type": "stream",
     "text": [
      "Enter number of elements : 2\n",
      "Please enter values of elements\n",
      "3\n",
      "1\n",
      "[3, 1]\n"
     ]
    }
   ],
   "source": [
    "arr=[]\n",
    "n=int(input('Enter number of elements : '))\n",
    "print(\"Please enter values of elements\")\n",
    "for i in range(0,n):\n",
    "    lst=int(input())\n",
    "    arr.append(lst)\n",
    "    \n",
    "print(arr)"
   ]
  },
  {
   "cell_type": "markdown",
   "id": "9a66007b",
   "metadata": {},
   "source": [
    "###### Bubble Short (Ascending order)"
   ]
  },
  {
   "cell_type": "code",
   "execution_count": 15,
   "id": "cf58086b",
   "metadata": {},
   "outputs": [
    {
     "name": "stdout",
     "output_type": "stream",
     "text": [
      "According to the bubble short alogorithem, the List in in ascending order: [0, 3, 3, 4, 7]\n"
     ]
    }
   ],
   "source": [
    "def BubbleShort(arr):\n",
    "    arr_len=len(arr)\n",
    "    for i in range (arr_len-1):\n",
    "        flag=0\n",
    "        for j in range(arr_len-1-i):\n",
    "            if arr[j]>arr[j+1]:\n",
    "                arr[j],arr[j+1]=arr[j+1],arr[j]\n",
    "                flag =1\n",
    "                if flag==0:\n",
    "                    break\n",
    "    return arr\n",
    "\n",
    "    \n",
    "\n",
    "print(\"According to the bubble short alogorithem, the List in in ascending order:\",BubbleShort(arr))"
   ]
  },
  {
   "cell_type": "markdown",
   "id": "caf7afc8",
   "metadata": {},
   "source": [
    "###### Bubble Short (Descending order)"
   ]
  },
  {
   "cell_type": "code",
   "execution_count": 17,
   "id": "60ed80f2",
   "metadata": {},
   "outputs": [
    {
     "name": "stdout",
     "output_type": "stream",
     "text": [
      "According to the bubble short alogorithem, the List in in descending order: [3, 1]\n"
     ]
    }
   ],
   "source": [
    "def BubbleShort(arr):\n",
    "    arr_len=len(arr)\n",
    "    for i in range (arr_len-1):\n",
    "        flag=0\n",
    "        for j in range(arr_len-1-i):\n",
    "            if arr[j]<arr[j+1]:\n",
    "                arr[j],arr[j+1]=arr[j+1],arr[j]\n",
    "                flag =1\n",
    "                if flag==0:\n",
    "                    break\n",
    "    return arr\n",
    "\n",
    "    \n",
    "\n",
    "print(\"According to the bubble short alogorithem, the List in in descending order:\",BubbleShort(arr))"
   ]
  }
 ],
 "metadata": {
  "kernelspec": {
   "display_name": "Python 3 (ipykernel)",
   "language": "python",
   "name": "python3"
  },
  "language_info": {
   "codemirror_mode": {
    "name": "ipython",
    "version": 3
   },
   "file_extension": ".py",
   "mimetype": "text/x-python",
   "name": "python",
   "nbconvert_exporter": "python",
   "pygments_lexer": "ipython3",
   "version": "3.9.12"
  },
  "varInspector": {
   "cols": {
    "lenName": 16,
    "lenType": 16,
    "lenVar": 40
   },
   "kernels_config": {
    "python": {
     "delete_cmd_postfix": "",
     "delete_cmd_prefix": "del ",
     "library": "var_list.py",
     "varRefreshCmd": "print(var_dic_list())"
    },
    "r": {
     "delete_cmd_postfix": ") ",
     "delete_cmd_prefix": "rm(",
     "library": "var_list.r",
     "varRefreshCmd": "cat(var_dic_list()) "
    }
   },
   "types_to_exclude": [
    "module",
    "function",
    "builtin_function_or_method",
    "instance",
    "_Feature"
   ],
   "window_display": false
  }
 },
 "nbformat": 4,
 "nbformat_minor": 5
}
